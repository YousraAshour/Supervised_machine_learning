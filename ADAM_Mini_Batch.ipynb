{
  "nbformat": 4,
  "nbformat_minor": 0,
  "metadata": {
    "colab": {
      "name": "ADAM Mini Batch",
      "provenance": [],
      "include_colab_link": true
    },
    "kernelspec": {
      "name": "python3",
      "display_name": "Python 3"
    },
    "language_info": {
      "name": "python"
    }
  },
  "cells": [
    {
      "cell_type": "markdown",
      "metadata": {
        "id": "view-in-github",
        "colab_type": "text"
      },
      "source": [
        "<a href=\"https://colab.research.google.com/github/YousraAshour/machine_learning/blob/main/ADAM_Mini_Batch.ipynb\" target=\"_parent\"><img src=\"https://colab.research.google.com/assets/colab-badge.svg\" alt=\"Open In Colab\"/></a>"
      ]
    },
    {
      "cell_type": "code",
      "execution_count": null,
      "metadata": {
        "id": "KMuAePtVCE5X"
      },
      "outputs": [],
      "source": [
        "import numpy as np\n",
        "import matplotlib.pyplot as plt\n",
        "%matplotlib inline \n",
        "import pandas as pd\n",
        "from sklearn.metrics import r2_score , mean_squared_error"
      ]
    },
    {
      "cell_type": "code",
      "source": [
        "data=pd.read_csv(r'/MultipleLR.csv - MultipleLR.csv.csv',header=None)\n",
        "data=np.asarray(data)\n",
        "x=data[:,:3].reshape(-1,3)\n",
        "x=np.c_[np.ones((len(x),1)),x]\n",
        "xx=np.c_[np.ones((len(x),1)),x]\n",
        "y=data[:,3].reshape(-1,1)\n",
        "y.shape\n"
      ],
      "metadata": {
        "colab": {
          "base_uri": "https://localhost:8080/"
        },
        "id": "6vyxRV3dCFxI",
        "outputId": "5f36b859-122e-40db-b8ba-2dedda05dc2e"
      },
      "execution_count": null,
      "outputs": [
        {
          "output_type": "execute_result",
          "data": {
            "text/plain": [
              "(25, 1)"
            ]
          },
          "metadata": {},
          "execution_count": 67
        }
      ]
    },
    {
      "cell_type": "code",
      "source": [
        "m=np.zeros((1,x.shape[1]))\n",
        "v=np.zeros((1,x.shape[1]))\n",
        "Theta=np.zeros((1,x.shape[1])).reshape(1,x.shape[1])\n",
        "epochs= 20000\n",
        "B1=0.9\n",
        "B2=0.999\n",
        "eps=10**-8\n",
        "alpha= 0.009\n",
        "batch=4\n",
        "\n",
        "\n",
        "def Adam_MiniBatch (x,y,m,v,eps,alpha,batch,epochs,Theta,B1,B2):\n",
        "  losses=[]\n",
        "  iters=[]\n",
        "  iter=0\n",
        "  Theta0=[]\n",
        "  Theta1=[]\n",
        "  Theta2=[]\n",
        "  Theta3=[]\n",
        "  flag = False\n",
        "  for e in range (epochs):\n",
        "          iters.append(iter)\n",
        "          iter+=1\n",
        "          while (flag == False):\n",
        "               \n",
        "            for i in range (x.shape[0]//batch):\n",
        "                X = x[i * batch:(i + 1) * batch,:]\n",
        "                Y = y[i * batch:(i + 1) * batch,:]\n",
        "                # print('Theta',Theta.shape)\n",
        "\n",
        "                h=np.dot(X,np.transpose(Theta))\n",
        "                # print('h',h.shape)\n",
        "                # print('y',Y.shape)\n",
        "\n",
        "                err= h-Y\n",
        "                # print('err',err.shape)\n",
        "                loss= (1/(2*batch))* np.dot(np.transpose(err),err)\n",
        "                losses.append(loss)\n",
        "                # print('loss',loss.shape)\n",
        "                grad= 1/batch * np.dot(np.transpose(err),X)\n",
        "                # print('grad',grad.shape)\n",
        "                if losses[e]-losses[e-1] > 0 or np.linalg.norm(grad) < 0.001:\n",
        "                  Flag = True\n",
        "                  break \n",
        "\n",
        "                m=(B1*m)+((1-B1)*(grad))\n",
        "                # print('m',m.shape)\n",
        "                m_cor=(m)/(1-(B1**(i+1)))\n",
        "                  \n",
        "                v=(B2*v)+((1-B2)*(grad)**2)\n",
        "\n",
        "                # print('v',v.shape)\n",
        "                v_cor=(v)/(1-(B2**(i+1)))\n",
        "                  \n",
        "                Theta= Theta - alpha*(m_cor/(np.sqrt(v_cor)+eps))\n",
        "                Theta= Theta.reshape(1,x.shape[1])\n",
        "                # print('Theta', Theta)\n",
        "                Theta0.append(Theta[:,0])\n",
        "                Theta1.append(Theta[:,1])\n",
        "                Theta2.append(Theta[:,2])\n",
        "                Theta3.append(Theta[:,3])\n",
        "          \n",
        "          \n",
        "      \n",
        "                \n",
        "  print('iters', len(iters))\n",
        "  return Theta, losses ,iters,Theta0,Theta1,Theta2,Theta3\n"
      ],
      "metadata": {
        "id": "cPbnyynoCFz5"
      },
      "execution_count": null,
      "outputs": []
    },
    {
      "cell_type": "code",
      "source": [
        "Theta, losses,iters,Theta0,Theta1,Theta2,Theta3 =  Adam_MiniBatch (x,y,m,v,eps,alpha,batch,epochs,Theta,B1,B2)\n",
        "y_pred= np.dot(x,np.transpose(Theta))\n",
        "score=r2_score(y,y_pred)\n",
        "score\n"
      ],
      "metadata": {
        "id": "Ne5WLIUzCF28"
      },
      "execution_count": null,
      "outputs": []
    },
    {
      "cell_type": "code",
      "source": [
        "losses=np.asarray(losses).reshape(-1,1)\n",
        "plt.plot(losses)"
      ],
      "metadata": {
        "id": "O8rAr0k-CGAm",
        "colab": {
          "base_uri": "https://localhost:8080/",
          "height": 284
        },
        "outputId": "be2d22fc-e2f3-48e3-c2f4-db171ae21f12"
      },
      "execution_count": null,
      "outputs": [
        {
          "output_type": "execute_result",
          "data": {
            "text/plain": [
              "[<matplotlib.lines.Line2D at 0x7f5d4352fb90>]"
            ]
          },
          "metadata": {},
          "execution_count": 58
        },
        {
          "output_type": "display_data",
          "data": {
            "text/plain": [
              "<Figure size 432x288 with 1 Axes>"
            ],
            "image/png": "[encoded data removed]"
          },
          "metadata": {
            "needs_background": "light"
          }
        }
      ]
    },
    {
      "cell_type": "code",
      "source": [
        "plt.plot(losses,Theta0)"
      ],
      "metadata": {
        "id": "bHHeA4woCGDs",
        "colab": {
          "base_uri": "https://localhost:8080/",
          "height": 284
        },
        "outputId": "34d303ce-dd78-4e4d-9ee4-1b0e32af33f9"
      },
      "execution_count": null,
      "outputs": [
        {
          "output_type": "execute_result",
          "data": {
            "text/plain": [
              "[<matplotlib.lines.Line2D at 0x7f5d4693be10>]"
            ]
          },
          "metadata": {},
          "execution_count": 59
        },
        {
          "output_type": "display_data",
          "data": {
            "text/plain": [
              "<Figure size 432x288 with 1 Axes>"
            ],
            "image/png": "[encoded data removed]"
          },
          "metadata": {
            "needs_background": "light"
          }
        }
      ]
    },
    {
      "cell_type": "code",
      "source": [
        "plt.plot(losses,Theta1)\n"
      ],
      "metadata": {
        "colab": {
          "base_uri": "https://localhost:8080/",
          "height": 286
        },
        "id": "USzAG26cJOdD",
        "outputId": "bc427920-f219-406d-c05f-edd819f0de0d"
      },
      "execution_count": null,
      "outputs": [
        {
          "output_type": "execute_result",
          "data": {
            "text/plain": [
              "[<matplotlib.lines.Line2D at 0x7f5d3bf0e550>]"
            ]
          },
          "metadata": {},
          "execution_count": 60
        },
        {
          "output_type": "display_data",
          "data": {
            "text/plain": [
              "<Figure size 432x288 with 1 Axes>"
            ],
            "image/png": "[encoded data removed]"
          },
          "metadata": {
            "needs_background": "light"
          }
        }
      ]
    },
    {
      "cell_type": "code",
      "source": [
        "plt.plot(losses,Theta2)\n"
      ],
      "metadata": {
        "colab": {
          "base_uri": "https://localhost:8080/",
          "height": 287
        },
        "id": "AWPzz1IOJTMR",
        "outputId": "c4b4b197-4464-4d93-b124-86278b77501c"
      },
      "execution_count": null,
      "outputs": [
        {
          "output_type": "execute_result",
          "data": {
            "text/plain": [
              "[<matplotlib.lines.Line2D at 0x7f5d404197d0>]"
            ]
          },
          "metadata": {},
          "execution_count": 61
        },
        {
          "output_type": "display_data",
          "data": {
            "text/plain": [
              "<Figure size 432x288 with 1 Axes>"
            ],
            "image/png": "[encoded data removed]"
          },
          "metadata": {
            "needs_background": "light"
          }
        }
      ]
    },
    {
      "cell_type": "code",
      "source": [
        "plt.plot(losses,Theta3)\n"
      ],
      "metadata": {
        "colab": {
          "base_uri": "https://localhost:8080/",
          "height": 286
        },
        "id": "S150kH7QJZ-K",
        "outputId": "400045af-6930-4043-9fe4-bcc859291478"
      },
      "execution_count": null,
      "outputs": [
        {
          "output_type": "execute_result",
          "data": {
            "text/plain": [
              "[<matplotlib.lines.Line2D at 0x7f5d46d8d350>]"
            ]
          },
          "metadata": {},
          "execution_count": 62
        },
        {
          "output_type": "display_data",
          "data": {
            "text/plain": [
              "<Figure size 432x288 with 1 Axes>"
            ],
            "image/png": "[encoded data removed]"
          },
          "metadata": {
            "needs_background": "light"
          }
        }
      ]
    },
    {
      "cell_type": "code",
      "source": [
        ""
      ],
      "metadata": {
        "id": "1dGwZuJZJcZH"
      },
      "execution_count": null,
      "outputs": []
    }
  ]
}