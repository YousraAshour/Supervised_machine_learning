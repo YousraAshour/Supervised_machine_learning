{
  "nbformat": 4,
  "nbformat_minor": 0,
  "metadata": {
    "colab": {
      "name": "ADAM Mini Batch",
      "provenance": [],
      "include_colab_link": true
    },
    "kernelspec": {
      "name": "python3",
      "display_name": "Python 3"
    },
    "language_info": {
      "name": "python"
    }
  },
  "cells": [
    {
      "cell_type": "markdown",
      "metadata": {
        "id": "view-in-github",
        "colab_type": "text"
      },
      "source": [
        "<a href=\"https://colab.research.google.com/github/YousraAshour/machine_learning/blob/main/ADAM_Mini_Batch.ipynb\" target=\"_parent\"><img src=\"https://colab.research.google.com/assets/colab-badge.svg\" alt=\"Open In Colab\"/></a>"
      ]
    },
    {
      "cell_type": "code",
      "execution_count": 32,
      "metadata": {
        "id": "KMuAePtVCE5X"
      },
      "outputs": [],
      "source": [
        "import numpy as np\n",
        "import matplotlib.pyplot as plt\n",
        "%matplotlib inline \n",
        "import pandas as pd\n",
        "from sklearn.metrics import r2_score , mean_squared_error"
      ]
    },
    {
      "cell_type": "code",
      "source": [
        "data=pd.read_csv(r'/MultipleLR.csv - MultipleLR.csv.csv',header=None)\n",
        "data=np.asarray(data)\n",
        "x=data[:,:3].reshape(-1,3)\n",
        "x=np.c_[np.ones((len(x),1)),x]\n",
        "xx=np.c_[np.ones((len(x),1)),x]\n",
        "y=data[:,3].reshape(-1,1)\n",
        "y.shape\n"
      ],
      "metadata": {
        "colab": {
          "base_uri": "https://localhost:8080/"
        },
        "id": "6vyxRV3dCFxI",
        "outputId": "abaf62e6-0c57-4fad-da4a-c45338f57769"
      },
      "execution_count": 33,
      "outputs": [
        {
          "output_type": "execute_result",
          "data": {
            "text/plain": [
              "(25, 1)"
            ]
          },
          "metadata": {},
          "execution_count": 33
        }
      ]
    },
    {
      "cell_type": "code",
      "source": [
        "m=np.zeros((1,x.shape[1]))\n",
        "v=np.zeros((1,x.shape[1]))\n",
        "Theta=np.zeros((1,x.shape[1])).reshape(1,x.shape[1])\n",
        "epochs= 20000\n",
        "B1=0.9\n",
        "B2=0.999\n",
        "eps=10**-8\n",
        "alpha= 0.009\n",
        "batch=4\n",
        "\n",
        "\n",
        "def Adam_MiniBatch (x,y,m,v,eps,alpha,batch,epochs,Theta,B1,B2):\n",
        "  losses=[]\n",
        "  iters=[]\n",
        "  iter=0\n",
        "  Theta0=[]\n",
        "  Theta1=[]\n",
        "  Theta2=[]\n",
        "  Theta3=[]\n",
        "\n",
        "  for e in range (epochs):\n",
        "          \n",
        "               \n",
        "          for i in range (x.shape[0]//batch):\n",
        "                X = x[i * batch:(i + 1) * batch,:]\n",
        "                Y = y[i * batch:(i + 1) * batch,:]\n",
        "                # print('Theta',Theta.shape)\n",
        "\n",
        "                h=np.dot(X,np.transpose(Theta))\n",
        "                # print('h',h.shape)\n",
        "                # print('y',Y.shape)\n",
        "\n",
        "                err= h-Y\n",
        "                # print('err',err.shape)\n",
        "                loss= (1/(2*batch))* np.dot(np.transpose(err),err)\n",
        "                losses.append(loss)\n",
        "                # print('loss',loss.shape)\n",
        "                grad= 1/batch * np.dot(np.transpose(err),X)\n",
        "                # print('grad',grad.shape)\n",
        "                if losses[e]-losses[e-1] > 0 or np.linalg.norm(grad) < 0.001:\n",
        "                  \n",
        "                  SystemExit \n",
        "\n",
        "                m=(B1*m)+((1-B1)*(grad))\n",
        "                # print('m',m.shape)\n",
        "                m_cor=(m)/(1-(B1**(i+1)))\n",
        "                  \n",
        "                v=(B2*v)+((1-B2)*(grad)**2)\n",
        "\n",
        "                # print('v',v.shape)\n",
        "                v_cor=(v)/(1-(B2**(i+1)))\n",
        "                  \n",
        "                Theta= Theta - alpha*(m_cor/(np.sqrt(v_cor)+eps))\n",
        "                Theta= Theta.reshape(1,x.shape[1])\n",
        "                # print('Theta', Theta)\n",
        "                Theta0.append(Theta[:,0])\n",
        "                Theta1.append(Theta[:,1])\n",
        "                Theta2.append(Theta[:,2])\n",
        "                Theta3.append(Theta[:,3])\n",
        "          \n",
        "                iters.append(iter)\n",
        "                iter+=1\n",
        "      \n",
        "                \n",
        "  return Theta, losses ,iters,Theta0,Theta1,Theta2,Theta3\n"
      ],
      "metadata": {
        "id": "cPbnyynoCFz5"
      },
      "execution_count": 41,
      "outputs": []
    },
    {
      "cell_type": "code",
      "source": [
        "Theta, losses,iters,Theta0,Theta1,Theta2,Theta3 =  Adam_MiniBatch (x,y,m,v,eps,alpha,batch,epochs,Theta,B1,B2)\n",
        "y_pred= np.dot(x,np.transpose(Theta))\n",
        "score=r2_score(y,y_pred)\n",
        "score\n"
      ],
      "metadata": {
        "id": "Ne5WLIUzCF28",
        "outputId": "37b8d787-37c3-4834-daff-a198eacb9cb4",
        "colab": {
          "base_uri": "https://localhost:8080/"
        }
      },
      "execution_count": 42,
      "outputs": [
        {
          "output_type": "execute_result",
          "data": {
            "text/plain": [
              "0.9896488942710051"
            ]
          },
          "metadata": {},
          "execution_count": 42
        }
      ]
    },
    {
      "cell_type": "code",
      "source": [
        "losses=np.asarray(losses).reshape(-1,1)\n",
        "plt.plot(losses)"
      ],
      "metadata": {
        "id": "O8rAr0k-CGAm",
        "colab": {
          "base_uri": "https://localhost:8080/",
          "height": 284
        },
        "outputId": "dd1fd21d-133d-45eb-c206-ac54675828c1"
      },
      "execution_count": 43,
      "outputs": [
        {
          "output_type": "execute_result",
          "data": {
            "text/plain": [
              "[<matplotlib.lines.Line2D at 0x7f948f42b6d0>]"
            ]
          },
          "metadata": {},
          "execution_count": 43
        },
        {
          "output_type": "display_data",
          "data": {
            "text/plain": [
              "<Figure size 432x288 with 1 Axes>"
            ],
            "image/png": "[encoded data removed]"
          },
          "metadata": {
            "needs_background": "light"
          }
        }
      ]
    },
    {
      "cell_type": "code",
      "source": [
        "plt.plot(losses,Theta0)"
      ],
      "metadata": {
        "id": "bHHeA4woCGDs",
        "colab": {
          "base_uri": "https://localhost:8080/",
          "height": 284
        },
        "outputId": "a67302a1-0811-413d-d788-49fb3eddd823"
      },
      "execution_count": 44,
      "outputs": [
        {
          "output_type": "execute_result",
          "data": {
            "text/plain": [
              "[<matplotlib.lines.Line2D at 0x7f948c326e50>]"
            ]
          },
          "metadata": {},
          "execution_count": 44
        },
        {
          "output_type": "display_data",
          "data": {
            "text/plain": [
              "<Figure size 432x288 with 1 Axes>"
            ],
            "image/png": "[encoded data removed]"
          },
          "metadata": {
            "needs_background": "light"
          }
        }
      ]
    },
    {
      "cell_type": "code",
      "source": [
        "plt.plot(losses,Theta1)\n"
      ],
      "metadata": {
        "colab": {
          "base_uri": "https://localhost:8080/",
          "height": 286
        },
        "id": "USzAG26cJOdD",
        "outputId": "8d236f33-2a84-4805-aec9-22546c3105b1"
      },
      "execution_count": 45,
      "outputs": [
        {
          "output_type": "execute_result",
          "data": {
            "text/plain": [
              "[<matplotlib.lines.Line2D at 0x7f948f4963d0>]"
            ]
          },
          "metadata": {},
          "execution_count": 45
        },
        {
          "output_type": "display_data",
          "data": {
            "text/plain": [
              "<Figure size 432x288 with 1 Axes>"
            ],
            "image/png": "[encoded data removed]"
          },
          "metadata": {
            "needs_background": "light"
          }
        }
      ]
    },
    {
      "cell_type": "code",
      "source": [
        "plt.plot(losses,Theta2)\n"
      ],
      "metadata": {
        "colab": {
          "base_uri": "https://localhost:8080/",
          "height": 287
        },
        "id": "AWPzz1IOJTMR",
        "outputId": "d7363130-e57a-47e4-b4a7-53217a804bf1"
      },
      "execution_count": 46,
      "outputs": [
        {
          "output_type": "execute_result",
          "data": {
            "text/plain": [
              "[<matplotlib.lines.Line2D at 0x7f948c3f8f90>]"
            ]
          },
          "metadata": {},
          "execution_count": 46
        },
        {
          "output_type": "display_data",
          "data": {
            "text/plain": [
              "<Figure size 432x288 with 1 Axes>"
            ],
            "image/png": "[encoded data removed]"
          },
          "metadata": {
            "needs_background": "light"
          }
        }
      ]
    },
    {
      "cell_type": "code",
      "source": [
        "plt.plot(losses,Theta3)\n"
      ],
      "metadata": {
        "colab": {
          "base_uri": "https://localhost:8080/",
          "height": 284
        },
        "id": "S150kH7QJZ-K",
        "outputId": "0fcf4154-d661-411c-af12-40c9a23c354d"
      },
      "execution_count": 47,
      "outputs": [
        {
          "output_type": "execute_result",
          "data": {
            "text/plain": [
              "[<matplotlib.lines.Line2D at 0x7f948c3e1c50>]"
            ]
          },
          "metadata": {},
          "execution_count": 47
        },
        {
          "output_type": "display_data",
          "data": {
            "text/plain": [
              "<Figure size 432x288 with 1 Axes>"
            ],
            "image/png": "[encoded data removed]"
          },
          "metadata": {
            "needs_background": "light"
          }
        }
      ]
    },
    {
      "cell_type": "code",
      "source": [
        ""
      ],
      "metadata": {
        "id": "1dGwZuJZJcZH"
      },
      "execution_count": null,
      "outputs": []
    }
  ]
}