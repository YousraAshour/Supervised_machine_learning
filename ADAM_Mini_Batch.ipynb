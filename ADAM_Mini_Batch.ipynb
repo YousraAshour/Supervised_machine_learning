{
  "nbformat": 4,
  "nbformat_minor": 0,
  "metadata": {
    "colab": {
      "name": "ADAM Mini Batch",
      "provenance": [],
      "include_colab_link": true
    },
    "kernelspec": {
      "name": "python3",
      "display_name": "Python 3"
    },
    "language_info": {
      "name": "python"
    }
  },
  "cells": [
    {
      "cell_type": "markdown",
      "metadata": {
        "id": "view-in-github",
        "colab_type": "text"
      },
      "source": [
        "<a href=\"https://colab.research.google.com/github/YousraAshour/machine_learning/blob/main/ADAM_Mini_Batch.ipynb\" target=\"_parent\"><img src=\"https://colab.research.google.com/assets/colab-badge.svg\" alt=\"Open In Colab\"/></a>"
      ]
    },
    {
      "cell_type": "code",
      "execution_count": null,
      "metadata": {
        "id": "KMuAePtVCE5X"
      },
      "outputs": [],
      "source": [
        "import numpy as np\n",
        "import matplotlib.pyplot as plt\n",
        "%matplotlib inline \n",
        "import pandas as pd\n",
        "from sklearn.metrics import r2_score , mean_squared_error"
      ]
    },
    {
      "cell_type": "code",
      "source": [
        "data=pd.read_csv(r'/MultipleLR.csv - MultipleLR.csv.csv',header=None)\n",
        "data=np.asarray(data)\n",
        "x=data[:,:3].reshape(-1,3)\n",
        "x=np.c_[np.ones((len(x),1)),x]\n",
        "xx=np.c_[np.ones((len(x),1)),x]\n",
        "y=data[:,3].reshape(-1,1)\n",
        "y.shape\n"
      ],
      "metadata": {
        "colab": {
          "base_uri": "https://localhost:8080/"
        },
        "id": "6vyxRV3dCFxI",
        "outputId": "ea895bbf-ce3b-4c61-bd24-5c6e13b14998"
      },
      "execution_count": 52,
      "outputs": [
        {
          "output_type": "execute_result",
          "data": {
            "text/plain": [
              "(25, 1)"
            ]
          },
          "metadata": {},
          "execution_count": 52
        }
      ]
    },
    {
      "cell_type": "code",
      "source": [
        "m=np.zeros((1,x.shape[1]))\n",
        "v=np.zeros((1,x.shape[1]))\n",
        "Theta=np.zeros((1,x.shape[1])).reshape(1,x.shape[1])\n",
        "epochs= 5000\n",
        "B1=0.9\n",
        "B2=0.999\n",
        "eps=10**-8\n",
        "alpha= 0.001\n",
        "batch=4\n",
        "\n",
        "\n",
        "def Adam_MiniBatch (x,y,m,v,eps,alpha,batch,epochs,Theta,B1,B2):\n",
        "  losses=[]\n",
        "\n",
        "  for e in range (epochs):\n",
        "          \n",
        "          for i in range (x.shape[0]//batch):\n",
        "              X = x[i * batch:(i + 1) * batch,:]\n",
        "              Y = y[i * batch:(i + 1) * batch,:]\n",
        "              # print('Theta',Theta.shape)\n",
        "\n",
        "              h=np.dot(X,np.transpose(Theta))\n",
        "              # print('h',h.shape)\n",
        "              # print('y',Y.shape)\n",
        "\n",
        "              err= h-Y\n",
        "              # print('err',err.shape)\n",
        "              loss= (1/(2*batch))* np.dot(np.transpose(err),err)\n",
        "              losses.append(loss)\n",
        "              # print('loss',loss.shape)\n",
        "              grad= 1/batch * np.dot(np.transpose(err),X)\n",
        "              # print('grad',grad.shape)\n",
        "              \n",
        "\n",
        "              m=(B1*m)+((1-B1)*(grad))\n",
        "              # print('m',m.shape)\n",
        "              m_cor=(m)/(1-(B1**(i+1)))\n",
        "              \n",
        "              v=(B2*v)+((1-B2)*(grad)**2)\n",
        "\n",
        "              # print('v',v.shape)\n",
        "              v_cor=(v)/(1-(B2**(i+1)))\n",
        "              \n",
        "              Theta= Theta - alpha*(m_cor/(np.sqrt(v_cor)+eps))\n",
        "              Theta= Theta.reshape(1,x.shape[1])\n",
        "              # print('Theta', Theta)\n",
        "      \n",
        "            \n",
        "              \n",
        "\n",
        "  return Theta, losses\n"
      ],
      "metadata": {
        "id": "cPbnyynoCFz5"
      },
      "execution_count": 136,
      "outputs": []
    },
    {
      "cell_type": "code",
      "source": [
        "\n",
        "\n",
        "Theta, losses =  Adam_MiniBatch (x,y,m,v,eps,alpha,batch,epochs,Theta,B1,B2)\n",
        "y_pred= np.dot(x,np.transpose(Theta))\n",
        "score=r2_score(y,y_pred)\n",
        "score"
      ],
      "metadata": {
        "colab": {
          "base_uri": "https://localhost:8080/"
        },
        "id": "Ne5WLIUzCF28",
        "outputId": "5349d714-e4e3-45e8-c0b9-d41397938fd7"
      },
      "execution_count": 137,
      "outputs": [
        {
          "output_type": "execute_result",
          "data": {
            "text/plain": [
              "0.9871642148857283"
            ]
          },
          "metadata": {},
          "execution_count": 137
        }
      ]
    },
    {
      "cell_type": "code",
      "source": [
        ""
      ],
      "metadata": {
        "id": "TqJGDlerCF5-"
      },
      "execution_count": 95,
      "outputs": []
    },
    {
      "cell_type": "code",
      "source": [
        ""
      ],
      "metadata": {
        "id": "O8rAr0k-CGAm"
      },
      "execution_count": null,
      "outputs": []
    },
    {
      "cell_type": "code",
      "source": [
        ""
      ],
      "metadata": {
        "id": "bHHeA4woCGDs"
      },
      "execution_count": null,
      "outputs": []
    }
  ]
}