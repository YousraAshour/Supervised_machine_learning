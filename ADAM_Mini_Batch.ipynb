{
  "nbformat": 4,
  "nbformat_minor": 0,
  "metadata": {
    "colab": {
      "name": "ADAM Mini Batch",
      "provenance": [],
      "include_colab_link": true
    },
    "kernelspec": {
      "name": "python3",
      "display_name": "Python 3"
    },
    "language_info": {
      "name": "python"
    }
  },
  "cells": [
    {
      "cell_type": "markdown",
      "metadata": {
        "id": "view-in-github",
        "colab_type": "text"
      },
      "source": [
        "<a href=\"https://colab.research.google.com/github/YousraAshour/machine_learning/blob/main/ADAM_Mini_Batch.ipynb\" target=\"_parent\"><img src=\"https://colab.research.google.com/assets/colab-badge.svg\" alt=\"Open In Colab\"/></a>"
      ]
    },
    {
      "cell_type": "code",
      "execution_count": 1,
      "metadata": {
        "id": "KMuAePtVCE5X"
      },
      "outputs": [],
      "source": [
        "import numpy as np\n",
        "import matplotlib.pyplot as plt\n",
        "%matplotlib inline \n",
        "import pandas as pd\n",
        "from sklearn.metrics import r2_score , mean_squared_error"
      ]
    },
    {
      "cell_type": "code",
      "source": [
        "data=pd.read_csv(r'/MultipleLR.csv - MultipleLR.csv.csv',header=None)\n",
        "data=np.asarray(data)\n",
        "x=data[:,:3].reshape(-1,3)\n",
        "x=np.c_[np.ones((len(x),1)),x]\n",
        "xx=np.c_[np.ones((len(x),1)),x]\n",
        "y=data[:,3].reshape(-1,1)\n",
        "y.shape\n"
      ],
      "metadata": {
        "colab": {
          "base_uri": "https://localhost:8080/"
        },
        "id": "6vyxRV3dCFxI",
        "outputId": "6da78403-e74a-4451-cea3-1f886bc4ef22"
      },
      "execution_count": 3,
      "outputs": [
        {
          "output_type": "execute_result",
          "data": {
            "text/plain": [
              "(25, 1)"
            ]
          },
          "metadata": {},
          "execution_count": 3
        }
      ]
    },
    {
      "cell_type": "code",
      "source": [
        "m=np.zeros((1,x.shape[1]))\n",
        "v=np.zeros((1,x.shape[1]))\n",
        "Theta=np.zeros((1,x.shape[1])).reshape(1,x.shape[1])\n",
        "epochs= 5000\n",
        "B1=0.9\n",
        "B2=0.999\n",
        "eps=10**-8\n",
        "alpha= 0.001\n",
        "batch=4\n",
        "\n",
        "\n",
        "def Adam_MiniBatch (x,y,m,v,eps,alpha,batch,epochs,Theta,B1,B2):\n",
        "  losses=[]\n",
        "  iters=[]\n",
        "  iter=0\n",
        "  Theta0=[]\n",
        "  Theta1=[]\n",
        "  Theta2=[]\n",
        "  Theta3=[]\n",
        "  for e in range (epochs):\n",
        "          \n",
        "          for i in range (x.shape[0]//batch):\n",
        "              X = x[i * batch:(i + 1) * batch,:]\n",
        "              Y = y[i * batch:(i + 1) * batch,:]\n",
        "              # print('Theta',Theta.shape)\n",
        "\n",
        "              h=np.dot(X,np.transpose(Theta))\n",
        "              # print('h',h.shape)\n",
        "              # print('y',Y.shape)\n",
        "\n",
        "              err= h-Y\n",
        "              # print('err',err.shape)\n",
        "              loss= (1/(2*batch))* np.dot(np.transpose(err),err)\n",
        "              losses.append(loss)\n",
        "              # print('loss',loss.shape)\n",
        "              grad= 1/batch * np.dot(np.transpose(err),X)\n",
        "              # print('grad',grad.shape)\n",
        "              \n",
        "\n",
        "              m=(B1*m)+((1-B1)*(grad))\n",
        "              # print('m',m.shape)\n",
        "              m_cor=(m)/(1-(B1**(i+1)))\n",
        "              \n",
        "              v=(B2*v)+((1-B2)*(grad)**2)\n",
        "\n",
        "              # print('v',v.shape)\n",
        "              v_cor=(v)/(1-(B2**(i+1)))\n",
        "              \n",
        "              Theta= Theta - alpha*(m_cor/(np.sqrt(v_cor)+eps))\n",
        "              Theta= Theta.reshape(1,x.shape[1])\n",
        "              # print('Theta', Theta)\n",
        "              Theta0.append(Theta[:,0])\n",
        "              Theta1.append(Theta[:,1])\n",
        "              Theta2.append(Theta[:,2])\n",
        "              Theta3.append(Theta[:,3])\n",
        "\n",
        "              iters.append(iter)\n",
        "              iter+=1\n",
        "              \n",
        "\n",
        "  return Theta, losses ,iters,Theta0,Theta1,Theta2,Theta3\n"
      ],
      "metadata": {
        "id": "cPbnyynoCFz5"
      },
      "execution_count": 13,
      "outputs": []
    },
    {
      "cell_type": "code",
      "source": [
        "Theta, losses,iters,Theta0,Theta1,Theta2,Theta3 =  Adam_MiniBatch (x,y,m,v,eps,alpha,batch,epochs,Theta,B1,B2)\n",
        "y_pred= np.dot(x,np.transpose(Theta))\n",
        "score=r2_score(y,y_pred)\n",
        "score\n"
      ],
      "metadata": {
        "colab": {
          "base_uri": "https://localhost:8080/"
        },
        "id": "Ne5WLIUzCF28",
        "outputId": "20ba34e9-b617-4f8f-8762-6fed9b997948"
      },
      "execution_count": 14,
      "outputs": [
        {
          "output_type": "execute_result",
          "data": {
            "text/plain": [
              "0.9871642148857283"
            ]
          },
          "metadata": {},
          "execution_count": 14
        }
      ]
    },
    {
      "cell_type": "code",
      "source": [
        "\n",
        "\n",
        "plt.scatter(losses,iters)"
      ],
      "metadata": {
        "id": "TqJGDlerCF5-",
        "colab": {
          "base_uri": "https://localhost:8080/",
          "height": 282
        },
        "outputId": "692c5020-ffb4-4ec4-e224-b5103dd99d54"
      },
      "execution_count": 15,
      "outputs": [
        {
          "output_type": "execute_result",
          "data": {
            "text/plain": [
              "<matplotlib.collections.PathCollection at 0x7f5d47ed0d90>"
            ]
          },
          "metadata": {},
          "execution_count": 15
        },
        {
          "output_type": "display_data",
          "data": {
            "text/plain": [
              "<Figure size 432x288 with 1 Axes>"
            ],
            "image/png": "[encoded data removed]"
          },
          "metadata": {
            "needs_background": "light"
          }
        }
      ]
    },
    {
      "cell_type": "code",
      "source": [
        "losses=np.asarray(losses).reshape(-1,1)\n",
        "plt.plot(losses)"
      ],
      "metadata": {
        "id": "O8rAr0k-CGAm",
        "colab": {
          "base_uri": "https://localhost:8080/",
          "height": 282
        },
        "outputId": "63a010f4-224e-4c8b-bbc9-800dea352b67"
      },
      "execution_count": 16,
      "outputs": [
        {
          "output_type": "execute_result",
          "data": {
            "text/plain": [
              "[<matplotlib.lines.Line2D at 0x7f5d4a12ec90>]"
            ]
          },
          "metadata": {},
          "execution_count": 16
        },
        {
          "output_type": "display_data",
          "data": {
            "text/plain": [
              "<Figure size 432x288 with 1 Axes>"
            ],
            "image/png": "[encoded data removed]"
          },
          "metadata": {
            "needs_background": "light"
          }
        }
      ]
    },
    {
      "cell_type": "code",
      "source": [
        "plt.plot(losses,Theta0)"
      ],
      "metadata": {
        "id": "bHHeA4woCGDs",
        "colab": {
          "base_uri": "https://localhost:8080/",
          "height": 282
        },
        "outputId": "17ec61d6-aa17-4837-d9d0-d2dd29029e1d"
      },
      "execution_count": 17,
      "outputs": [
        {
          "output_type": "execute_result",
          "data": {
            "text/plain": [
              "[<matplotlib.lines.Line2D at 0x7f5d4a302710>]"
            ]
          },
          "metadata": {},
          "execution_count": 17
        },
        {
          "output_type": "display_data",
          "data": {
            "text/plain": [
              "<Figure size 432x288 with 1 Axes>"
            ],
            "image/png": "[encoded data removed]"
          },
          "metadata": {
            "needs_background": "light"
          }
        }
      ]
    },
    {
      "cell_type": "code",
      "source": [
        "plt.plot(losses,Theta1)\n"
      ],
      "metadata": {
        "id": "USzAG26cJOdD",
        "outputId": "6f525b2e-1bcb-4b82-f5ad-5dec3c6474de",
        "colab": {
          "base_uri": "https://localhost:8080/",
          "height": 285
        }
      },
      "execution_count": 19,
      "outputs": [
        {
          "output_type": "execute_result",
          "data": {
            "text/plain": [
              "[<matplotlib.lines.Line2D at 0x7f5d46914bd0>]"
            ]
          },
          "metadata": {},
          "execution_count": 19
        },
        {
          "output_type": "display_data",
          "data": {
            "text/plain": [
              "<Figure size 432x288 with 1 Axes>"
            ],
            "image/png": "[encoded data removed]"
          },
          "metadata": {
            "needs_background": "light"
          }
        }
      ]
    },
    {
      "cell_type": "code",
      "source": [
        "plt.plot(losses,Theta2)\n"
      ],
      "metadata": {
        "id": "AWPzz1IOJTMR",
        "outputId": "b87c1c2b-88a0-435e-c3a0-44df10f56c6f",
        "colab": {
          "base_uri": "https://localhost:8080/",
          "height": 286
        }
      },
      "execution_count": 20,
      "outputs": [
        {
          "output_type": "execute_result",
          "data": {
            "text/plain": [
              "[<matplotlib.lines.Line2D at 0x7f5d4686d050>]"
            ]
          },
          "metadata": {},
          "execution_count": 20
        },
        {
          "output_type": "display_data",
          "data": {
            "text/plain": [
              "<Figure size 432x288 with 1 Axes>"
            ],
            "image/png": "[encoded data removed]"
          },
          "metadata": {
            "needs_background": "light"
          }
        }
      ]
    },
    {
      "cell_type": "code",
      "source": [
        "plt.plot(losses,Theta3)\n"
      ],
      "metadata": {
        "id": "S150kH7QJZ-K",
        "outputId": "3ae43990-0167-4baa-bc48-9f96ce73ff41",
        "colab": {
          "base_uri": "https://localhost:8080/",
          "height": 282
        }
      },
      "execution_count": 23,
      "outputs": [
        {
          "output_type": "execute_result",
          "data": {
            "text/plain": [
              "[<matplotlib.lines.Line2D at 0x7f5d466b1750>]"
            ]
          },
          "metadata": {},
          "execution_count": 23
        },
        {
          "output_type": "display_data",
          "data": {
            "text/plain": [
              "<Figure size 432x288 with 1 Axes>"
            ],
            "image/png": "[encoded data removed]"
          },
          "metadata": {
            "needs_background": "light"
          }
        }
      ]
    },
    {
      "cell_type": "code",
      "source": [
        ""
      ],
      "metadata": {
        "id": "1dGwZuJZJcZH"
      },
      "execution_count": null,
      "outputs": []
    }
  ]
}