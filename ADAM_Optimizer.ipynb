{
  "nbformat": 4,
  "nbformat_minor": 0,
  "metadata": {
    "colab": {
      "name": "ADAM Optimizer",
      "provenance": [],
      "collapsed_sections": [
        "RuCQyuKQeUom"
      ],
      "authorship_tag": "ABX9TyPXfHuS56CH4dhBuT1k7ecZ",
      "include_colab_link": true
    },
    "kernelspec": {
      "name": "python3",
      "display_name": "Python 3"
    },
    "language_info": {
      "name": "python"
    }
  },
  "cells": [
    {
      "cell_type": "markdown",
      "metadata": {
        "id": "view-in-github",
        "colab_type": "text"
      },
      "source": [
        "<a href=\"https://colab.research.google.com/github/YousraAshour/machine_learning/blob/main/ADAM_Optimizer.ipynb\" target=\"_parent\"><img src=\"https://colab.research.google.com/assets/colab-badge.svg\" alt=\"Open In Colab\"/></a>"
      ]
    },
    {
      "cell_type": "code",
      "execution_count": 31,
      "metadata": {
        "id": "IHeEg4IodHic"
      },
      "outputs": [],
      "source": [
        "import numpy as np\n",
        "import matplotlib.pyplot as plt\n",
        "%matplotlib inline \n",
        "import pandas as pd\n",
        "\n"
      ]
    },
    {
      "cell_type": "code",
      "source": [
        "data=pd.read_csv(r'/MultipleLR.csv - MultipleLR.csv.csv',header=None)\n",
        "data=np.asarray(data)\n",
        "x=data[:,:3].reshape(-1,3)\n",
        "x=np.c_[np.ones((len(x),1)),x]\n",
        "\n",
        "y=data[:,3].reshape(-1,1)\n",
        "y.shape\n"
      ],
      "metadata": {
        "colab": {
          "base_uri": "https://localhost:8080/"
        },
        "id": "VMRJBqIUdJf2",
        "outputId": "5ba25206-10bd-4929-8419-6ec3989c1430"
      },
      "execution_count": 39,
      "outputs": [
        {
          "output_type": "execute_result",
          "data": {
            "text/plain": [
              "(25, 1)"
            ]
          },
          "metadata": {},
          "execution_count": 39
        }
      ]
    },
    {
      "cell_type": "markdown",
      "source": [
        "### **Batch**\n"
      ],
      "metadata": {
        "id": "e3_EZP34eIeT"
      }
    },
    {
      "cell_type": "code",
      "source": [
        "\n",
        "\n",
        "# X=np.c_[np.ones((len(x),1)),x]\n",
        "# Theta=[]\n",
        "# Thetas=np.zeros((4,1)).reshape(4,1)\n",
        "# losses=[]\n",
        "# epochs= 1000\n",
        "# L= 0.0001"
      ],
      "metadata": {
        "id": "rhNNIbvYdMxf"
      },
      "execution_count": 33,
      "outputs": []
    },
    {
      "cell_type": "code",
      "source": [
        "\n",
        "# for i in range (epochs):\n",
        "#     y_pred= np.dot(X,Thetas)\n",
        "#     err= y_pred - y\n",
        "#     loss= 1/2*len(X)*np.dot(np.transpose(err),err)\n",
        "#     losses.append(loss)\n",
        "    \n",
        "#     grad= 1/len(X)*np.dot(np.transpose(X),err)\n",
        "    \n",
        "#     Thetas=Thetas - (L*grad)\n",
        "#     Theta.append(Thetas)\n"
      ],
      "metadata": {
        "id": "j6lcGc6PdOhT"
      },
      "execution_count": 34,
      "outputs": []
    },
    {
      "cell_type": "markdown",
      "source": [
        "### **Mini-batch**"
      ],
      "metadata": {
        "id": "RuCQyuKQeUom"
      }
    },
    {
      "cell_type": "code",
      "source": [
        "# batch=10\n",
        "# Thetas=np.zeros((4,1)).reshape(4,1)\n",
        "# losses=[]\n",
        "# epochs= 100\n",
        "# L= 0.0001\n",
        "# y=data[:,3].reshape(-1,1)\n",
        "# y.shape"
      ],
      "metadata": {
        "id": "r0M5E8UxdSvB"
      },
      "execution_count": 35,
      "outputs": []
    },
    {
      "cell_type": "code",
      "source": [
        "\n",
        "# for e in range (epochs):\n",
        "        \n",
        "#         for i in range (X.shape[0]-1//batch+1):\n",
        "#             x = X[i * batch:(i + 1) * batch]\n",
        "#             Y = y[i * batch:(i + 1) * batch]\n",
        "#             h= x@Thetas\n",
        "#             err= h - Y\n",
        "#             loss= 1/(2*batch)* np.transpose(err)@err\n",
        "#             losses.append(loss)\n",
        "            \n",
        "#             grad= 1/batch * np.transpose(x)@err\n",
        "            \n",
        "#             Thetas=Thetas - L*grad\n",
        "            \n",
        "# x.shape\n",
        "# err.shape"
      ],
      "metadata": {
        "id": "r21AY2uwdUgr"
      },
      "execution_count": 36,
      "outputs": []
    },
    {
      "cell_type": "markdown",
      "source": [
        "### **Adam** **Batch**"
      ],
      "metadata": {
        "id": "OnNsib1Jenfc"
      }
    },
    {
      "cell_type": "code",
      "source": [
        "\n",
        "# x=data[:,:3].reshape(-1,3)\n",
        "# X=np.c_[np.ones((len(x),1)),x].reshape(-1,4)\n",
        "\n",
        "# y=data[:,3].reshape(-1,1)"
      ],
      "metadata": {
        "id": "c_d1Htg9dYBa"
      },
      "execution_count": 37,
      "outputs": []
    },
    {
      "cell_type": "code",
      "source": [
        "m=np.zeros((1,x.shape[1]))\n",
        "v=np.zeros((1,x.shape[1]))\n",
        "Theta=np.zeros((1,x.shape[1])).reshape(1,x.shape[1])\n",
        "epochs= 100\n",
        "B1=0.9\n",
        "B2=0.999\n",
        "eps=10**-8\n",
        "alpha= 0.0001\n",
        "Theta.shape"
      ],
      "metadata": {
        "colab": {
          "base_uri": "https://localhost:8080/"
        },
        "id": "ob3Zq3UzdZ0s",
        "outputId": "49086cd9-3664-4200-ed7e-8c4f21cf45d2"
      },
      "execution_count": 57,
      "outputs": [
        {
          "output_type": "execute_result",
          "data": {
            "text/plain": [
              "(1, 4)"
            ]
          },
          "metadata": {},
          "execution_count": 57
        }
      ]
    },
    {
      "cell_type": "code",
      "source": [
        "# h=np.dot(x,np.transpose(Theta)).reshape(x.shape[0],1)\n",
        "# err= (h-y).reshape(x.shape[0],1)\n",
        "# loss= 1/(2*x.shape[0])* np.dot(np.transpose(err),err)\n",
        "# grad= 1/x.shape[0] * np.dot(np.transpose(x),err)\n",
        "# grad.reshape(x.shape[1],1)\n",
        "# grad.shape\n",
        "Theta.shape"
      ],
      "metadata": {
        "colab": {
          "base_uri": "https://localhost:8080/"
        },
        "id": "WvIWE_sydbZn",
        "outputId": "90e19429-76a4-46fc-bc9d-7d3af6744578"
      },
      "execution_count": 56,
      "outputs": [
        {
          "output_type": "execute_result",
          "data": {
            "text/plain": [
              "(4, 4)"
            ]
          },
          "metadata": {},
          "execution_count": 56
        }
      ]
    },
    {
      "cell_type": "code",
      "source": [
        "m=np.zeros((1,x.shape[1]))\n",
        "v=np.zeros((1,x.shape[1]))\n",
        "Theta=np.zeros((1,x.shape[1])).reshape(1,x.shape[1])\n",
        "epochs= 100\n",
        "B1=0.9\n",
        "B2=0.999\n",
        "eps=10**-8\n",
        "alpha= 0.0001\n",
        "losses=[]\n",
        "for i in range (epochs):\n",
        "    # print('Theta',Theta.shape)\n",
        "    h=np.dot(x,np.transpose(Theta))\n",
        "    # print('h',h.shape)\n",
        "    err= (h-y)\n",
        "    # print('err',err.shape)\n",
        "    loss= (1/(2*x.shape[0])* np.dot(np.transpose(err),err)).reshape(1,1)\n",
        "    losses.append(loss)\n",
        "    # print('loss',loss.shape)\n",
        "    grad= 1/x.shape[0] * np.dot(np.transpose(err),x)\n",
        "    # print('grad',grad.shape)\n",
        "    \n",
        "\n",
        "    m=(B1*m)+((1-B1)*(grad))\n",
        "    # print('m',m.shape)\n",
        "    m_cor=(m)/(1-(B1**(i+1)))\n",
        "    \n",
        "    v=(B2*v)+((1-B2)*(grad)**2)\n",
        "    # print('v',v.shape)\n",
        "    v_cor=(v)/(1-(B2**(i+1)))\n",
        "    \n",
        "    Theta= Theta - alpha*(m_cor/(np.sqrt(v_cor)+eps))\n",
        "    # print('Theta',Theta.shape)\n",
        "    \n"
      ],
      "metadata": {
        "id": "UwqiwlOXdd_3"
      },
      "execution_count": 79,
      "outputs": []
    },
    {
      "cell_type": "code",
      "source": [
        ""
      ],
      "metadata": {
        "id": "uPZMadh1dgmW"
      },
      "execution_count": null,
      "outputs": []
    }
  ]
}