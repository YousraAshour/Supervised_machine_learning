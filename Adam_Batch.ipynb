{
  "nbformat": 4,
  "nbformat_minor": 0,
  "metadata": {
    "colab": {
      "name": "Adam Batch",
      "provenance": [],
      "authorship_tag": "ABX9TyMBpVJznspMB6fMCPOTsS7j",
      "include_colab_link": true
    },
    "kernelspec": {
      "name": "python3",
      "display_name": "Python 3"
    },
    "language_info": {
      "name": "python"
    }
  },
  "cells": [
    {
      "cell_type": "markdown",
      "metadata": {
        "id": "view-in-github",
        "colab_type": "text"
      },
      "source": [
        "<a href=\"https://colab.research.google.com/github/YousraAshour/machine_learning/blob/main/Adam_Batch.ipynb\" target=\"_parent\"><img src=\"https://colab.research.google.com/assets/colab-badge.svg\" alt=\"Open In Colab\"/></a>"
      ]
    },
    {
      "cell_type": "code",
      "source": [
        "import numpy as np\n",
        "import matplotlib.pyplot as plt\n",
        "%matplotlib inline \n",
        "import pandas as pd\n",
        "from sklearn.metrics import r2_score , mean_squared_error\n"
      ],
      "metadata": {
        "id": "8gR13SyyJspG"
      },
      "execution_count": 111,
      "outputs": []
    },
    {
      "cell_type": "code",
      "source": [
        "data=pd.read_csv(r'/MultipleLR.csv - MultipleLR.csv.csv',header=None)\n",
        "data=np.asarray(data)\n",
        "x=data[:,:3].reshape(-1,3)\n",
        "x=np.c_[np.ones((len(x),1)),x]\n",
        "xx=np.c_[np.ones((len(x),1)),x]\n",
        "y=data[:,3].reshape(-1,1)\n",
        "y.shape\n"
      ],
      "metadata": {
        "colab": {
          "base_uri": "https://localhost:8080/"
        },
        "id": "8gvqhjb9JsZd",
        "outputId": "412a158a-6c3c-41a0-d3fa-af24c0e75917"
      },
      "execution_count": 112,
      "outputs": [
        {
          "output_type": "execute_result",
          "data": {
            "text/plain": [
              "(25, 1)"
            ]
          },
          "metadata": {},
          "execution_count": 112
        }
      ]
    },
    {
      "cell_type": "markdown",
      "source": [
        "### **NOTE: I used a higher number of epochs(15000) to test the stopping conditions while the needed epochs are less**"
      ],
      "metadata": {
        "id": "A6pA8SC8W6fg"
      }
    },
    {
      "cell_type": "code",
      "execution_count": 113,
      "metadata": {
        "id": "nQM31v3EIKVP"
      },
      "outputs": [],
      "source": [
        "m=np.zeros((1,x.shape[1]))\n",
        "v=np.zeros((1,x.shape[1]))\n",
        "Theta=np.zeros((1,x.shape[1])).reshape(1,x.shape[1])\n",
        "epochs= 15000\n",
        "B1=0.9\n",
        "B2=0.999\n",
        "eps=10**-8\n",
        "alpha= 0.009\n",
        "\n",
        "\n",
        "def Adam_Batch (x,y,m,v,eps,alpha,epochs,Theta,B1,B2):\n",
        "  losses=[]\n",
        "  iters=[]\n",
        "  iter=0\n",
        "  Theta0=[]\n",
        "  Theta1=[]\n",
        "  Theta2=[]\n",
        "  Theta3=[]\n",
        "  for e in range (epochs):\n",
        "\n",
        "\n",
        "              h=np.dot(x,np.transpose(Theta))\n",
        "              # print('h',h.shape)\n",
        "              # print('y',Y.shape)\n",
        "\n",
        "              err= h-y\n",
        "              # print('err',err.shape)\n",
        "              loss= (1/(2*x.shape[0]))* np.dot(np.transpose(err),err)\n",
        "              \n",
        "              # print('loss',loss.shape)\n",
        "              grad= 1/x.shape[0] * np.dot(np.transpose(err),x)\n",
        "              losses.append(loss)\n",
        "\n",
        "              if losses[e]-losses[e-1] > 0 or np.linalg.norm(grad) < 0.001 :\n",
        "                \n",
        "                losses.pop()\n",
        "                break\n",
        "              else:  \n",
        "                m=(B1*m)+((1-B1)*(grad))\n",
        "                # print('m',m.shape)\n",
        "                m_cor=(m)/(1-(B1**(e+1)))\n",
        "                \n",
        "                v=(B2*v)+((1-B2)*(grad)**2)\n",
        "\n",
        "                # print('v',v.shape)\n",
        "                v_cor=(v)/(1-(B2**(e+1)))\n",
        "                \n",
        "                Theta= Theta - alpha*(m_cor/(np.sqrt(v_cor)+eps))\n",
        "                Theta= Theta.reshape(1,x.shape[1])\n",
        "                # print('Theta', Theta)\n",
        "                Theta0.append(Theta[:,0])\n",
        "                Theta1.append(Theta[:,1])\n",
        "                Theta2.append(Theta[:,2])\n",
        "                Theta3.append(Theta[:,3])\n",
        "\n",
        "                iters.append(iter)\n",
        "                iter+=1\n",
        "  print('iters', len(iters))\n",
        "  return Theta, losses ,iters,Theta0,Theta1,Theta2,Theta3\n"
      ]
    },
    {
      "cell_type": "code",
      "source": [
        "Theta, losses,iters,Theta0,Theta1,Theta2,Theta3 =  Adam_Batch (x,y,m,v,eps,alpha,epochs,Theta,B1,B2)\n",
        "y_pred= np.dot(x,np.transpose(Theta))\n",
        "score=r2_score(y,y_pred)\n",
        "score\n"
      ],
      "metadata": {
        "colab": {
          "base_uri": "https://localhost:8080/"
        },
        "id": "X7523-S5J_Qx",
        "outputId": "eadf87ab-6fae-428e-8d2e-4ca1577c04a9"
      },
      "execution_count": 114,
      "outputs": [
        {
          "output_type": "stream",
          "name": "stdout",
          "text": [
            "iters 11956\n"
          ]
        },
        {
          "output_type": "execute_result",
          "data": {
            "text/plain": [
              "0.9896615227905441"
            ]
          },
          "metadata": {},
          "execution_count": 114
        }
      ]
    },
    {
      "cell_type": "code",
      "source": [
        "plt.scatter(losses,iters)"
      ],
      "metadata": {
        "colab": {
          "base_uri": "https://localhost:8080/",
          "height": 284
        },
        "id": "jPrAHU5TKEy6",
        "outputId": "09c8ba1e-959e-4f5d-a9f6-b329671da001"
      },
      "execution_count": 115,
      "outputs": [
        {
          "output_type": "execute_result",
          "data": {
            "text/plain": [
              "<matplotlib.collections.PathCollection at 0x7f9046acab10>"
            ]
          },
          "metadata": {},
          "execution_count": 115
        },
        {
          "output_type": "display_data",
          "data": {
            "text/plain": [
              "<Figure size 432x288 with 1 Axes>"
            ],
            "image/png": "[encoded data removed]"
          },
          "metadata": {
            "needs_background": "light"
          }
        }
      ]
    },
    {
      "cell_type": "code",
      "source": [
        "losses=np.asarray(losses).reshape(-1,1)\n",
        "plt.plot(losses)"
      ],
      "metadata": {
        "colab": {
          "base_uri": "https://localhost:8080/",
          "height": 286
        },
        "id": "RkDY5luZKuwg",
        "outputId": "4586adb6-407f-4b0f-d1ed-9c75a467cb85"
      },
      "execution_count": 116,
      "outputs": [
        {
          "output_type": "execute_result",
          "data": {
            "text/plain": [
              "[<matplotlib.lines.Line2D at 0x7f90466d6bd0>]"
            ]
          },
          "metadata": {},
          "execution_count": 116
        },
        {
          "output_type": "display_data",
          "data": {
            "text/plain": [
              "<Figure size 432x288 with 1 Axes>"
            ],
            "image/png": "[encoded data removed]"
          },
          "metadata": {
            "needs_background": "light"
          }
        }
      ]
    },
    {
      "cell_type": "code",
      "source": [
        "plt.plot(losses,Theta0)"
      ],
      "metadata": {
        "colab": {
          "base_uri": "https://localhost:8080/",
          "height": 284
        },
        "id": "pMexDyG1KymB",
        "outputId": "2a8a194d-f85e-422c-fb4a-8e20fee0d53d"
      },
      "execution_count": 117,
      "outputs": [
        {
          "output_type": "execute_result",
          "data": {
            "text/plain": [
              "[<matplotlib.lines.Line2D at 0x7f904668e850>]"
            ]
          },
          "metadata": {},
          "execution_count": 117
        },
        {
          "output_type": "display_data",
          "data": {
            "text/plain": [
              "<Figure size 432x288 with 1 Axes>"
            ],
            "image/png": "[encoded data removed]"
          },
          "metadata": {
            "needs_background": "light"
          }
        }
      ]
    },
    {
      "cell_type": "code",
      "source": [
        "plt.plot(losses,Theta1)"
      ],
      "metadata": {
        "colab": {
          "base_uri": "https://localhost:8080/",
          "height": 286
        },
        "id": "fX_VaJYLK2CC",
        "outputId": "b73410ee-3389-4ce9-8249-7738c6c5b037"
      },
      "execution_count": 118,
      "outputs": [
        {
          "output_type": "execute_result",
          "data": {
            "text/plain": [
              "[<matplotlib.lines.Line2D at 0x7f9046626ad0>]"
            ]
          },
          "metadata": {},
          "execution_count": 118
        },
        {
          "output_type": "display_data",
          "data": {
            "text/plain": [
              "<Figure size 432x288 with 1 Axes>"
            ],
            "image/png": "[encoded data removed]"
          },
          "metadata": {
            "needs_background": "light"
          }
        }
      ]
    },
    {
      "cell_type": "code",
      "source": [
        "plt.plot(losses,Theta2)"
      ],
      "metadata": {
        "colab": {
          "base_uri": "https://localhost:8080/",
          "height": 286
        },
        "id": "f5Kq_iwVK3LD",
        "outputId": "299d16aa-3101-4aee-a879-8414a2d56d2c"
      },
      "execution_count": 119,
      "outputs": [
        {
          "output_type": "execute_result",
          "data": {
            "text/plain": [
              "[<matplotlib.lines.Line2D at 0x7f904654cf50>]"
            ]
          },
          "metadata": {},
          "execution_count": 119
        },
        {
          "output_type": "display_data",
          "data": {
            "text/plain": [
              "<Figure size 432x288 with 1 Axes>"
            ],
            "image/png": "[encoded data removed]"
          },
          "metadata": {
            "needs_background": "light"
          }
        }
      ]
    },
    {
      "cell_type": "code",
      "source": [
        "plt.plot(losses,Theta3)"
      ],
      "metadata": {
        "colab": {
          "base_uri": "https://localhost:8080/",
          "height": 284
        },
        "id": "P5_S_sBoK4d7",
        "outputId": "588a1274-596d-4d43-b3ea-b00c3fb917d4"
      },
      "execution_count": 120,
      "outputs": [
        {
          "output_type": "execute_result",
          "data": {
            "text/plain": [
              "[<matplotlib.lines.Line2D at 0x7f9046474510>]"
            ]
          },
          "metadata": {},
          "execution_count": 120
        },
        {
          "output_type": "display_data",
          "data": {
            "text/plain": [
              "<Figure size 432x288 with 1 Axes>"
            ],
            "image/png": "[encoded data removed]"
          },
          "metadata": {
            "needs_background": "light"
          }
        }
      ]
    },
    {
      "cell_type": "code",
      "source": [
        ""
      ],
      "metadata": {
        "id": "TT1J6z48K52o"
      },
      "execution_count": 120,
      "outputs": []
    }
  ]
}