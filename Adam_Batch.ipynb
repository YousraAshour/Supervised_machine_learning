{
  "nbformat": 4,
  "nbformat_minor": 0,
  "metadata": {
    "colab": {
      "name": "Adam Batch",
      "provenance": [],
      "authorship_tag": "ABX9TyPXdyt0tXk+VlT5kKUkeuVo",
      "include_colab_link": true
    },
    "kernelspec": {
      "name": "python3",
      "display_name": "Python 3"
    },
    "language_info": {
      "name": "python"
    }
  },
  "cells": [
    {
      "cell_type": "markdown",
      "metadata": {
        "id": "view-in-github",
        "colab_type": "text"
      },
      "source": [
        "<a href=\"https://colab.research.google.com/github/YousraAshour/machine_learning/blob/main/Adam_Batch.ipynb\" target=\"_parent\"><img src=\"https://colab.research.google.com/assets/colab-badge.svg\" alt=\"Open In Colab\"/></a>"
      ]
    },
    {
      "cell_type": "code",
      "source": [
        "import numpy as np\n",
        "import matplotlib.pyplot as plt\n",
        "%matplotlib inline \n",
        "import pandas as pd\n",
        "from sklearn.metrics import r2_score , mean_squared_error"
      ],
      "metadata": {
        "id": "8gR13SyyJspG"
      },
      "execution_count": 1,
      "outputs": []
    },
    {
      "cell_type": "code",
      "source": [
        "data=pd.read_csv(r'/MultipleLR.csv - MultipleLR.csv.csv',header=None)\n",
        "data=np.asarray(data)\n",
        "x=data[:,:3].reshape(-1,3)\n",
        "x=np.c_[np.ones((len(x),1)),x]\n",
        "xx=np.c_[np.ones((len(x),1)),x]\n",
        "y=data[:,3].reshape(-1,1)\n",
        "y.shape\n"
      ],
      "metadata": {
        "colab": {
          "base_uri": "https://localhost:8080/"
        },
        "id": "8gvqhjb9JsZd",
        "outputId": "f05de59b-0457-48ab-8fcb-12bbd6319f78"
      },
      "execution_count": 3,
      "outputs": [
        {
          "output_type": "execute_result",
          "data": {
            "text/plain": [
              "(25, 1)"
            ]
          },
          "metadata": {},
          "execution_count": 3
        }
      ]
    },
    {
      "cell_type": "code",
      "execution_count": 34,
      "metadata": {
        "id": "nQM31v3EIKVP"
      },
      "outputs": [],
      "source": [
        "m=np.zeros((1,x.shape[1]))\n",
        "v=np.zeros((1,x.shape[1]))\n",
        "Theta=np.zeros((1,x.shape[1])).reshape(1,x.shape[1])\n",
        "epochs= 5000\n",
        "B1=0.9\n",
        "B2=0.999\n",
        "eps=10**-8\n",
        "alpha= 0.009\n",
        "\n",
        "\n",
        "def Adam_Batch (x,y,m,v,eps,alpha,epochs,Theta,B1,B2):\n",
        "  losses=[]\n",
        "  iters=[]\n",
        "  iter=0\n",
        "  Theta0=[]\n",
        "  Theta1=[]\n",
        "  Theta2=[]\n",
        "  Theta3=[]\n",
        "  for e in range (epochs):\n",
        "\n",
        "\n",
        "              h=np.dot(x,np.transpose(Theta))\n",
        "              # print('h',h.shape)\n",
        "              # print('y',Y.shape)\n",
        "\n",
        "              err= h-y\n",
        "              # print('err',err.shape)\n",
        "              loss= (1/(2*batch))* np.dot(np.transpose(err),err)\n",
        "              losses.append(loss)\n",
        "              # print('loss',loss.shape)\n",
        "              grad= 1/batch * np.dot(np.transpose(err),x)\n",
        "              # print('grad',grad.shape)\n",
        "              \n",
        "\n",
        "              m=(B1*m)+((1-B1)*(grad))\n",
        "              # print('m',m.shape)\n",
        "              m_cor=(m)/(1-(B1**(e+1)))\n",
        "              \n",
        "              v=(B2*v)+((1-B2)*(grad)**2)\n",
        "\n",
        "              # print('v',v.shape)\n",
        "              v_cor=(v)/(1-(B2**(e+1)))\n",
        "              \n",
        "              Theta= Theta - alpha*(m_cor/(np.sqrt(v_cor)+eps))\n",
        "              Theta= Theta.reshape(1,x.shape[1])\n",
        "              # print('Theta', Theta)\n",
        "              Theta0.append(Theta[:,0])\n",
        "              Theta1.append(Theta[:,1])\n",
        "              Theta2.append(Theta[:,2])\n",
        "              Theta3.append(Theta[:,3])\n",
        "\n",
        "              iters.append(iter)\n",
        "              iter+=1\n",
        "              \n",
        "\n",
        "  return Theta, losses ,iters,Theta0,Theta1,Theta2,Theta3\n"
      ]
    },
    {
      "cell_type": "code",
      "source": [
        "Theta, losses,iters,Theta0,Theta1,Theta2,Theta3 =  Adam_Batch (x,y,m,v,eps,alpha,epochs,Theta,B1,B2)\n",
        "y_pred= np.dot(x,np.transpose(Theta))\n",
        "score=r2_score(y,y_pred)\n",
        "score\n"
      ],
      "metadata": {
        "colab": {
          "base_uri": "https://localhost:8080/"
        },
        "id": "X7523-S5J_Qx",
        "outputId": "98d5a2b0-6d16-42f6-fa09-9d305ace59da"
      },
      "execution_count": 35,
      "outputs": [
        {
          "output_type": "execute_result",
          "data": {
            "text/plain": [
              "0.9883824484979327"
            ]
          },
          "metadata": {},
          "execution_count": 35
        }
      ]
    },
    {
      "cell_type": "code",
      "source": [
        "plt.scatter(losses,iters)"
      ],
      "metadata": {
        "colab": {
          "base_uri": "https://localhost:8080/",
          "height": 282
        },
        "id": "jPrAHU5TKEy6",
        "outputId": "cf7b6941-f594-4b6a-fea3-9bb13e66f131"
      },
      "execution_count": 36,
      "outputs": [
        {
          "output_type": "execute_result",
          "data": {
            "text/plain": [
              "<matplotlib.collections.PathCollection at 0x7f263e5434d0>"
            ]
          },
          "metadata": {},
          "execution_count": 36
        },
        {
          "output_type": "display_data",
          "data": {
            "text/plain": [
              "<Figure size 432x288 with 1 Axes>"
            ],
            "image/png": "[encoded data removed]"
          },
          "metadata": {
            "needs_background": "light"
          }
        }
      ]
    },
    {
      "cell_type": "code",
      "source": [
        "losses=np.asarray(losses).reshape(-1,1)\n",
        "plt.plot(losses)"
      ],
      "metadata": {
        "colab": {
          "base_uri": "https://localhost:8080/",
          "height": 282
        },
        "id": "RkDY5luZKuwg",
        "outputId": "dfb3ef24-8041-4b4c-a8b1-373a293225c2"
      },
      "execution_count": 37,
      "outputs": [
        {
          "output_type": "execute_result",
          "data": {
            "text/plain": [
              "[<matplotlib.lines.Line2D at 0x7f263e39a6d0>]"
            ]
          },
          "metadata": {},
          "execution_count": 37
        },
        {
          "output_type": "display_data",
          "data": {
            "text/plain": [
              "<Figure size 432x288 with 1 Axes>"
            ],
            "image/png": "[encoded data removed]"
          },
          "metadata": {
            "needs_background": "light"
          }
        }
      ]
    },
    {
      "cell_type": "code",
      "source": [
        "plt.plot(losses,Theta0)"
      ],
      "metadata": {
        "colab": {
          "base_uri": "https://localhost:8080/",
          "height": 285
        },
        "id": "pMexDyG1KymB",
        "outputId": "04f7c24c-af3d-440d-ac85-bcaef9757fa6"
      },
      "execution_count": 38,
      "outputs": [
        {
          "output_type": "execute_result",
          "data": {
            "text/plain": [
              "[<matplotlib.lines.Line2D at 0x7f263e261ad0>]"
            ]
          },
          "metadata": {},
          "execution_count": 38
        },
        {
          "output_type": "display_data",
          "data": {
            "text/plain": [
              "<Figure size 432x288 with 1 Axes>"
            ],
            "image/png": "[encoded data removed]"
          },
          "metadata": {
            "needs_background": "light"
          }
        }
      ]
    },
    {
      "cell_type": "code",
      "source": [
        "plt.plot(losses,Theta1)"
      ],
      "metadata": {
        "colab": {
          "base_uri": "https://localhost:8080/",
          "height": 285
        },
        "id": "fX_VaJYLK2CC",
        "outputId": "23abe258-ecb5-4cb6-be9c-407333eba4cb"
      },
      "execution_count": 39,
      "outputs": [
        {
          "output_type": "execute_result",
          "data": {
            "text/plain": [
              "[<matplotlib.lines.Line2D at 0x7f263e273e50>]"
            ]
          },
          "metadata": {},
          "execution_count": 39
        },
        {
          "output_type": "display_data",
          "data": {
            "text/plain": [
              "<Figure size 432x288 with 1 Axes>"
            ],
            "image/png": "[encoded data removed]"
          },
          "metadata": {
            "needs_background": "light"
          }
        }
      ]
    },
    {
      "cell_type": "code",
      "source": [
        "plt.plot(losses,Theta2)"
      ],
      "metadata": {
        "colab": {
          "base_uri": "https://localhost:8080/",
          "height": 285
        },
        "id": "f5Kq_iwVK3LD",
        "outputId": "fe9e64a4-e15e-4674-803e-a6efc9a8cd22"
      },
      "execution_count": 40,
      "outputs": [
        {
          "output_type": "execute_result",
          "data": {
            "text/plain": [
              "[<matplotlib.lines.Line2D at 0x7f263e431c50>]"
            ]
          },
          "metadata": {},
          "execution_count": 40
        },
        {
          "output_type": "display_data",
          "data": {
            "text/plain": [
              "<Figure size 432x288 with 1 Axes>"
            ],
            "image/png": "[encoded data removed]"
          },
          "metadata": {
            "needs_background": "light"
          }
        }
      ]
    },
    {
      "cell_type": "code",
      "source": [
        "plt.plot(losses,Theta3)"
      ],
      "metadata": {
        "colab": {
          "base_uri": "https://localhost:8080/",
          "height": 282
        },
        "id": "P5_S_sBoK4d7",
        "outputId": "e9a70cfb-1d94-4d73-979a-f20f7d1ad48c"
      },
      "execution_count": 41,
      "outputs": [
        {
          "output_type": "execute_result",
          "data": {
            "text/plain": [
              "[<matplotlib.lines.Line2D at 0x7f263ed64d50>]"
            ]
          },
          "metadata": {},
          "execution_count": 41
        },
        {
          "output_type": "display_data",
          "data": {
            "text/plain": [
              "<Figure size 432x288 with 1 Axes>"
            ],
            "image/png": "[encoded data removed]"
          },
          "metadata": {
            "needs_background": "light"
          }
        }
      ]
    },
    {
      "cell_type": "code",
      "source": [
        ""
      ],
      "metadata": {
        "id": "TT1J6z48K52o"
      },
      "execution_count": null,
      "outputs": []
    }
  ]
}