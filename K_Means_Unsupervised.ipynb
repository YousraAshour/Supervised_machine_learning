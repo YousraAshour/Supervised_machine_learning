{
  "nbformat": 4,
  "nbformat_minor": 0,
  "metadata": {
    "colab": {
      "name": "K-Means Unsupervised",
      "provenance": [],
      "authorship_tag": "ABX9TyMOGA3/MP/GQ49aQLAqo9sC",
      "include_colab_link": true
    },
    "kernelspec": {
      "name": "python3",
      "display_name": "Python 3"
    },
    "language_info": {
      "name": "python"
    }
  },
  "cells": [
    {
      "cell_type": "markdown",
      "metadata": {
        "id": "view-in-github",
        "colab_type": "text"
      },
      "source": [
        "<a href=\"https://colab.research.google.com/github/YousraAshour/machine_learning/blob/main/K_Means_Unsupervised.ipynb\" target=\"_parent\"><img src=\"https://colab.research.google.com/assets/colab-badge.svg\" alt=\"Open In Colab\"/></a>"
      ]
    },
    {
      "cell_type": "code",
      "execution_count": 160,
      "metadata": {
        "id": "fmfqADaQXfmj"
      },
      "outputs": [],
      "source": [
        "import numpy as np\n",
        "import matplotlib.pyplot as plt\n",
        "%matplotlib inline \n",
        "import pandas as pd\n",
        "from sklearn.metrics import r2_score , mean_squared_error\n",
        "from scipy.spatial.distance import cdist \n",
        "from sklearn import preprocessing\n",
        "\n"
      ]
    },
    {
      "cell_type": "code",
      "source": [
        "data=pd.read_csv(r'/MultipleLR.csv - MultipleLR.csv.csv',header=None)\n",
        "data=np.asarray(data)\n",
        "x=data[:,:2].reshape(-1,2)\n",
        "plt.scatter(x[:,0],x[:,1])"
      ],
      "metadata": {
        "colab": {
          "base_uri": "https://localhost:8080/",
          "height": 284
        },
        "id": "S7CPLn-oXoI1",
        "outputId": "30e68249-0e26-4955-f634-5f76c8468028"
      },
      "execution_count": 161,
      "outputs": [
        {
          "output_type": "execute_result",
          "data": {
            "text/plain": [
              "<matplotlib.collections.PathCollection at 0x7f347dcfec10>"
            ]
          },
          "metadata": {},
          "execution_count": 161
        },
        {
          "output_type": "display_data",
          "data": {
            "text/plain": [
              "<Figure size 432x288 with 1 Axes>"
            ],
            "image/png": "[encoded data removed]"
          },
          "metadata": {
            "needs_background": "light"
          }
        }
      ]
    },
    {
      "cell_type": "code",
      "source": [
        "# Choose K and Randomly initialize Centriods\n",
        "k = 2\n",
        "def KMeans(x,k,iters):\n",
        "  # x= preprocessing.normalize(x)\n",
        "  rand_idx = np.random.choice(x.shape[0], k, replace=False)\n",
        "  centroids = x[rand_idx, :]\n",
        "  loss=[]\n",
        "  \n",
        "  iter=0\n",
        "  for i in range(iters):\n",
        "    \n",
        "    distances = cdist(x, centroids ,'euclidean')\n",
        "    # print(centroids)\n",
        "    # k_idx = np.array([np.argmin(i) for i in distance])\n",
        "    k_idx=np.argmin(distances, axis=1)\n",
        "    \n",
        "    diff= 0\n",
        "    for a in range(k):\n",
        "      d= x[k_idx==a] - centroids[a]\n",
        "      diff = diff + np.sum(d**2)\n",
        "\n",
        "    dist_fun = 1/x.shape[0]* diff\n",
        "    loss.append(dist_fun)\n",
        "\n",
        "    new_centers=np.empty([k,x.shape[1]])\n",
        "\n",
        "    for j in range(k):\n",
        "        new_centers[j] = np.mean(x[k_idx == j], axis = 0)\n",
        "    iter+=1\n",
        "    \n",
        "    if np.any(new_centers-centroids) < 1e-18:\n",
        "      break\n",
        "    centroids=new_centers\n",
        "  plt.scatter(x[:,0],x[:,1],c=k_idx, s=40)\n",
        "\n",
        "  # print('iters', iter)\n",
        "  return centroids, dist_fun, loss\n",
        "\n",
        "\n",
        "# Optimization and choosing the best Centriods \n",
        "# def best_centroid():\n",
        "\n",
        "#   for i in range (100):\n",
        "\n",
        "\n"
      ],
      "metadata": {
        "id": "NP72taAhX9sm"
      },
      "execution_count": 162,
      "outputs": []
    },
    {
      "cell_type": "code",
      "source": [
        "a,b, c= KMeans(x,3,300)"
      ],
      "metadata": {
        "colab": {
          "base_uri": "https://localhost:8080/",
          "height": 267
        },
        "id": "GI51kiKIE5yj",
        "outputId": "f194afe6-a035-4509-b652-0fa7dc113574"
      },
      "execution_count": 163,
      "outputs": [
        {
          "output_type": "display_data",
          "data": {
            "text/plain": [
              "<Figure size 432x288 with 1 Axes>"
            ],
            "image/png": "[encoded data removed]"
          },
          "metadata": {
            "needs_background": "light"
          }
        }
      ]
    },
    {
      "cell_type": "code",
      "source": [
        "# plotting for different K\n",
        "def Optimum_centroids(x,k,iters=300,r=100):\n",
        "\n",
        "  centroids=[]\n",
        "  distortion=[]\n",
        "  for i in range(r):\n",
        "    cen,dist, losses = KMeans(x,k,iters)\n",
        "    centroids.append(cen)\n",
        "    distortion.append(dist)\n",
        "\n",
        "  best_centroid= centroids[np.argmin(distortion, axis=0)]\n",
        "  best_dist= distortion[np.argmin(distortion, axis=0)]\n",
        "  plt.scatter(best_centroid)\n",
        "  return best_centroid, best_dist\n"
      ],
      "metadata": {
        "id": "sP5XULP_Zq1c"
      },
      "execution_count": 187,
      "outputs": []
    },
    {
      "cell_type": "code",
      "source": [
        "cen, dist=Optimum_centroids(x,k,iters=300,r=100)\n",
        "cen,dist\n"
      ],
      "metadata": {
        "id": "dB2BWkbYfkgd"
      },
      "execution_count": null,
      "outputs": []
    },
    {
      "cell_type": "code",
      "source": [
        "cens=[]\n",
        "dists=[]\n",
        "for i in range (10):\n",
        "    cen, dist = Optimum_centroids(x,k)\n",
        "    cens.append(cen)\n",
        "    dists.append(dist)\n",
        "\n",
        "plt.plot(dists) \n",
        "\n",
        "  "
      ],
      "metadata": {
        "colab": {
          "base_uri": "https://localhost:8080/",
          "height": 352
        },
        "id": "Mdt1BZNnXJYv",
        "outputId": "27d87146-cd0c-458d-95c6-d785dea7d959"
      },
      "execution_count": 186,
      "outputs": [
        {
          "output_type": "stream",
          "name": "stderr",
          "text": [
            "/usr/local/lib/python3.7/dist-packages/numpy/core/fromnumeric.py:3441: RuntimeWarning: Mean of empty slice.\n",
            "  out=out, **kwargs)\n",
            "/usr/local/lib/python3.7/dist-packages/numpy/core/_methods.py:182: RuntimeWarning: invalid value encountered in true_divide\n",
            "  ret, rcount, out=ret, casting='unsafe', subok=False)\n"
          ]
        },
        {
          "output_type": "execute_result",
          "data": {
            "text/plain": [
              "[<matplotlib.lines.Line2D at 0x7f347d8f6ed0>]"
            ]
          },
          "metadata": {},
          "execution_count": 186
        },
        {
          "output_type": "display_data",
          "data": {
            "text/plain": [
              "<Figure size 432x288 with 1 Axes>"
            ],
            "image/png": "[encoded data removed]"
          },
          "metadata": {
            "needs_background": "light"
          }
        }
      ]
    },
    {
      "cell_type": "code",
      "source": [
        ""
      ],
      "metadata": {
        "id": "wT8MK7kFgbfV"
      },
      "execution_count": null,
      "outputs": []
    }
  ]
}